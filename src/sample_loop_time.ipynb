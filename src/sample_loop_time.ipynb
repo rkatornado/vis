{
 "cells": [
  {
   "cell_type": "code",
   "execution_count": 3,
   "id": "3658057f-ca30-4384-8c12-2715c56e6ef2",
   "metadata": {},
   "outputs": [
    {
     "name": "stdout",
     "output_type": "stream",
     "text": [
      "2021/07/09/23/2107092300hoge.txt\n",
      "2021/07/09/23/2107092315hoge.txt\n",
      "2021/07/09/23/2107092330hoge.txt\n",
      "2021/07/09/23/2107092345hoge.txt\n",
      "2021/07/10/00/2107100000hoge.txt\n",
      "2021/07/10/00/2107100015hoge.txt\n",
      "2021/07/10/00/2107100030hoge.txt\n",
      "2021/07/10/00/2107100045hoge.txt\n",
      "2021/07/10/01/2107100100hoge.txt\n"
     ]
    }
   ],
   "source": [
    "import pandas as pd\n",
    "time = pd.date_range('202107092300', '202107100100', freq='15T')\n",
    "dlist = []\n",
    "for t in time:\n",
    "    ymdh  = t.strftime('%Y/%m/%d/%H/')\n",
    "    ymdhm = t.strftime('%y%m%d%H%M')\n",
    "    f = ymdh + ymdhm + 'hoge.txt'\n",
    "    print(f)\n",
    "    dlist.append(f)"
   ]
  },
  {
   "cell_type": "code",
   "execution_count": null,
   "id": "9f72e5ed-8d4f-43a7-bc79-586328cf8978",
   "metadata": {},
   "outputs": [],
   "source": []
  },
  {
   "cell_type": "code",
   "execution_count": null,
   "id": "e3c5e8a9-e79c-43e0-b815-8cbbd2f14443",
   "metadata": {},
   "outputs": [],
   "source": []
  }
 ],
 "metadata": {
  "kernelspec": {
   "display_name": "Python 3 (ipykernel)",
   "language": "python",
   "name": "python3"
  },
  "language_info": {
   "codemirror_mode": {
    "name": "ipython",
    "version": 3
   },
   "file_extension": ".py",
   "mimetype": "text/x-python",
   "name": "python",
   "nbconvert_exporter": "python",
   "pygments_lexer": "ipython3",
   "version": "3.9.5"
  }
 },
 "nbformat": 4,
 "nbformat_minor": 5
}
